{
 "cells": [
  {
   "cell_type": "code",
   "execution_count": 10,
   "id": "affiliated-sensitivity",
   "metadata": {},
   "outputs": [],
   "source": [
    "import gym\n",
    "import numpy as np \n",
    "import matplotlib.pyplot as plt\n",
    "import time\n",
    "import random\n",
    "from collections import deque\n",
    "import tensorflow as tf\n",
    "from tqdm import tqdm \n",
    "from tensorflow.keras import Sequential \n",
    "from tensorflow.keras.activations import relu, linear\n",
    "from tensorflow.keras.layers import Dense\n",
    "from tensorflow.keras.optimizers import RMSprop\n",
    "import math"
   ]
  },
  {
   "cell_type": "code",
   "execution_count": 77,
   "id": "voluntary-establishment",
   "metadata": {},
   "outputs": [],
   "source": [
    "class Model:\n",
    "    def __init__(self, input_dim, output_dim, lr):\n",
    "        self.input_dim = input_dim\n",
    "        self.output_dim = output_dim\n",
    "        self.lr = lr\n",
    "        self.Qpolicy = self.create()\n",
    "        self.Qtarget = self.create() \n",
    "        self.Qtarget.set_weights(self.Qpolicy.get_weights())\n",
    "        \n",
    "    def create(self):\n",
    "        model = Sequential()\n",
    "        model.add(Dense(512, input_dim = self.input_dim, activation = 'relu'))\n",
    "        model.add(Dense(256, activation = 'relu'))\n",
    "        model.add(Dense(128, activation = 'relu'))\n",
    "        model.add(Dense(self.output_dim, activation = 'linear'))\n",
    "        model.compile(optimizer = RMSprop(lr = self.lr, rho = 0.95, epsilon = 0.01), loss = \"mse\", metrics = ['accuracy'])\n",
    "        return model\n",
    "\n",
    "class DQNAgent:\n",
    "    def __init__(self, lr = 2.5e-4, gamma = 0.99, epsilon = 1, decay_coe = 0.99975, min_eps = 0.001, \n",
    "                 batch_size = 64, memory_size = 10_000, episodes = 5_000, C = 5):\n",
    "        \n",
    "        self.env = gym.make('CartPole-v0')\n",
    "\n",
    "        self.states = len(env.observation_space.low) \n",
    "        self.n_actions = env.action_space.n\n",
    "        \n",
    "        self.actions = [i for i in range(self.n_actions)]\n",
    "        \n",
    "        self.lr = lr \n",
    "        self.gamma = gamma\n",
    "        self.epsilon = epsilon \n",
    "        self.decay_coe = decay_coe\n",
    "        self.min_eps = min_eps\n",
    "        self.episodes = episodes\n",
    "        self.batch_size = batch_size\n",
    "        self.D = deque(maxlen = memory_size) # replay memory \n",
    "        self.C = C\n",
    "        \n",
    "        self.terminal_state = False # end of the episode\n",
    "        self.target_counter = 0 \n",
    "        \n",
    "        # Plot data\n",
    "        self.timestep = self.episodes / 10\n",
    "        self.history = [] \n",
    "        self.reward_data = []\n",
    "        self.epsilon_data = []\n",
    "        \n",
    "        \n",
    "        \n",
    "        self.model = Model(self.states, self.n_actions, self.lr)\n",
    "        # Smooth epsilon \n",
    "        self.a = 0.35\n",
    "        self.b = 0.1\n",
    "        self.c = 0.01\n",
    "        \n",
    "    def state_shape(self,states):\n",
    "        states = np.array(states)\n",
    "        return states.reshape(-1,*states.shape)\n",
    "    \n",
    "    def decrement_epsilon(self, time):\n",
    "        '''\n",
    "        if self.epsilon > self.min_eps:\n",
    "            self.epsilon *= self.decay_coe\n",
    "        else:\n",
    "            self.epsilon = self.min_eps\n",
    "        '''\n",
    "        s_time = (time - self.a*self.episodes) / (self.b*self.episodes) \n",
    "        cosh = np.cosh(math.exp(-s_time))\n",
    "        self.epsilon = 1 - (1/cosh + (time*self.c/self.episodes))\n",
    "\n",
    "    def update_D(self, s, a, r, s_, done):\n",
    "        self.D.append([self.state_shape(s), a, r, self.state_shape(s_), done])\n",
    "        \n",
    "    def choose_action(self, states):\n",
    "        if np.random.random() > (1 - self.epsilon):\n",
    "            action = np.random.choice(self.actions)\n",
    "        else:\n",
    "            states = self.state_shape(states)\n",
    "            action = np.argmax(self.model.Qpolicy.predict(states))\n",
    "            \n",
    "        return action\n",
    "            \n",
    "    def minibatch(self):\n",
    "        return random.sample(self.D, self.batch_size)\n",
    "    \n",
    "    def graphs(self, episode):\n",
    "        f1 = plt.figure(1)\n",
    "        plt.plot([i for i in range(len(self.reward_data))], self.reward_data)\n",
    "        plt.ylabel('Score per episode')\n",
    "        plt.xlabel('Episodes')\n",
    "        plt.savefig(r'RL/reward - e{}v2.png'.format(episode), dpi = 500)\n",
    "        \n",
    "        f2 = plt.figure(2)\n",
    "        plt.plot([i for i in range(len(self.epsilon_data))], self.epsilon_data)\n",
    "        plt.ylabel('Epsilon')\n",
    "        plt.xlabel('Episodes')\n",
    "        plt.savefig(r'RL/epsilon - e{}v2.png'.format(episode), dpi = 500)\n",
    "        \n",
    "        f3 = plt.figure(3)\n",
    "        plt.plot([i for i in range(len(self.history))], self.history)\n",
    "        plt.ylabel('Loss')\n",
    "        plt.xlabel('Iterations')\n",
    "        plt.savefig(r'RL/loss - e{}v2.png'.format(episode), dpi = 500)\n",
    "        \n",
    "    def train(self):\n",
    "        # X - states passed to the NN, y - target\n",
    "        \n",
    "        X, y = [], []\n",
    "        \n",
    "        if len(self.D) >= self.batch_size: \n",
    "            SARS = self.minibatch()\n",
    "        \n",
    "            s = self.state_shape([row[0] for row in SARS])\n",
    "            qvalue = self.model.Qpolicy.predict(s)[0]\n",
    "\n",
    "            s_ = self.state_shape([row[3] for row in SARS])\n",
    "            future_qvalue = self.model.Qtarget.predict(s_)[0]\n",
    "\n",
    "            for index, (state, action, reward, state_, done) in enumerate(SARS):\n",
    "                if done == True:\n",
    "                    Qtarget = reward\n",
    "                else:\n",
    "                    Qtarget = reward + self.gamma * np.max(future_qvalue[index])\n",
    "            \n",
    "                \n",
    "                qcurr = qvalue[index][0]\n",
    "                qcurr[action] = Qtarget                \n",
    "                X.append(state)\n",
    "                y.append(qcurr)\n",
    "                \n",
    "            X, y = np.array(X).reshape(1,self.batch_size,1,self.states), np.array(y).reshape(1,self.batch_size, 1, self.n_actions)\n",
    "                                        \n",
    "            loss = self.model.Qpolicy.fit(X, y, batch_size = self.batch_size, shuffle = False, verbose = 0)\n",
    "            self.history.append(loss.history['loss'][0])\n",
    "            \n",
    "                \n",
    "            if self.terminal_state:\n",
    "                self.target_counter+=1\n",
    "\n",
    "            # C -> target network update frequency\n",
    "            if self.target_counter > self.C: \n",
    "                self.model.Qtarget.set_weights(self.model.Qpolicy.get_weights())\n",
    "                self.target_counter = 0 \n",
    "            \n",
    "        \n",
    "    def training(self):\n",
    "        timestep_reward = 0\n",
    "        \n",
    "        for episode in tqdm(range(1, self.episodes+1), ascii = True, unit = 'episode'): \n",
    "            s = self.env.reset()\n",
    "            done = False\n",
    "            score = 0\n",
    "            while done != True:\n",
    "                a = self.choose_action(s)\n",
    "                \n",
    "                s_, r, done, _= self.env.step(a)\n",
    "                \n",
    "                # Update \n",
    "                self.terminal_state = done\n",
    "                self.update_D(s,a,r,s_,done)\n",
    "                \n",
    "                self.train()\n",
    "                \n",
    "                s = s_\n",
    "                score += r\n",
    "                \n",
    "            self.decrement_epsilon(episode)  \n",
    "\n",
    "            # UPDATE\n",
    "            self.reward_data.append(score)\n",
    "            self.epsilon_data.append(self.epsilon)\n",
    "            \n",
    "            if episode % self.timestep == 0: \n",
    "                self.graphs(episode)\n",
    "            \n",
    "         \n",
    "        \n",
    "        self.graphs(episode)\n",
    "        self.model.Qpolicy.save(r'RL/{}'.format())\n",
    "        \n",
    "    def test(self, model_name,test_episodes = 100):\n",
    "        model = tf.keras.models.load_model('{}'.format(model_name))\n",
    "        reward = []\n",
    "        self.epsilon = 0.05\n",
    "        for i in range(test_episodes):\n",
    "            ep_reward = 0\n",
    "            s = self.env.reset()\n",
    "            done = False\n",
    "\n",
    "            while done != True:\n",
    "                if np.random.random() > self.epsilon: \n",
    "                    \n",
    "                s_, r, done, _ = self.env.step(a)\n",
    "                \n",
    "                s = s_\n",
    "                ep_reward += r\n",
    "                \n",
    "            reward.append(ep_reward)\n",
    "        \n",
    "        plt.plot([i for i in range(len(reward))], reward)\n",
    "        plt.xlabel('Episodes')\n",
    "        plt.ylabel('Episode reward')\n",
    "        plt.savefig(r'RL/Test.png')"
   ]
  },
  {
   "cell_type": "code",
   "execution_count": 78,
   "id": "transparent-family",
   "metadata": {},
   "outputs": [],
   "source": [
    "dqn = DQNAgent(episodes = 1_000)"
   ]
  },
  {
   "cell_type": "code",
   "execution_count": 79,
   "id": "unlike-going",
   "metadata": {
    "scrolled": true
   },
   "outputs": [
    {
     "name": "stderr",
     "output_type": "stream",
     "text": [
      "  0%|                                                                            | 1/1000 [00:00<03:37,  4.59episode/s]"
     ]
    },
    {
     "name": "stdout",
     "output_type": "stream",
     "text": [
      "WARNING:tensorflow:Model was constructed with shape (None, 4) for input KerasTensor(type_spec=TensorSpec(shape=(None, 4), dtype=tf.float32, name='dense_72_input'), name='dense_72_input', description=\"created by layer 'dense_72_input'\"), but it was called on an input with incompatible shape (None, 64, 1, 4).\n",
      "WARNING:tensorflow:Model was constructed with shape (None, 4) for input KerasTensor(type_spec=TensorSpec(shape=(None, 4), dtype=tf.float32, name='dense_76_input'), name='dense_76_input', description=\"created by layer 'dense_76_input'\"), but it was called on an input with incompatible shape (None, 64, 1, 4).\n",
      "WARNING:tensorflow:Model was constructed with shape (None, 4) for input KerasTensor(type_spec=TensorSpec(shape=(None, 4), dtype=tf.float32, name='dense_72_input'), name='dense_72_input', description=\"created by layer 'dense_72_input'\"), but it was called on an input with incompatible shape (None, 64, 1, 4).\n",
      "WARNING:tensorflow:Model was constructed with shape (None, 4) for input KerasTensor(type_spec=TensorSpec(shape=(None, 4), dtype=tf.float32, name='dense_72_input'), name='dense_72_input', description=\"created by layer 'dense_72_input'\"), but it was called on an input with incompatible shape (None, 64, 1, 4).\n"
     ]
    },
    {
     "name": "stderr",
     "output_type": "stream",
     "text": [
      "100%|#######################################################################| 1000/1000 [5:25:00<00:00, 19.50s/episode]\n"
     ]
    },
    {
     "data": {
      "image/png": "[encoded data removed]",
      "text/plain": [
       "<Figure size 432x288 with 1 Axes>"
      ]
     },
     "metadata": {
      "needs_background": "light"
     },
     "output_type": "display_data"
    },
    {
     "data": {
      "image/png": "[encoded data removed]",
      "text/plain": [
       "<Figure size 432x288 with 1 Axes>"
      ]
     },
     "metadata": {
      "needs_background": "light"
     },
     "output_type": "display_data"
    },
    {
     "data": {
      "image/png": "[encoded data removed]",
      "text/plain": [
       "<Figure size 432x288 with 1 Axes>"
      ]
     },
     "metadata": {
      "needs_background": "light"
     },
     "output_type": "display_data"
    }
   ],
   "source": [
    "dqn.training()"
   ]
  }
 ],
 "metadata": {
  "kernelspec": {
   "display_name": "Python 3",
   "language": "python",
   "name": "python3"
  },
  "language_info": {
   "codemirror_mode": {
    "name": "ipython",
    "version": 3
   },
   "file_extension": ".py",
   "mimetype": "text/x-python",
   "name": "python",
   "nbconvert_exporter": "python",
   "pygments_lexer": "ipython3",
   "version": "3.8.0"
  }
 },
 "nbformat": 4,
 "nbformat_minor": 5
}
